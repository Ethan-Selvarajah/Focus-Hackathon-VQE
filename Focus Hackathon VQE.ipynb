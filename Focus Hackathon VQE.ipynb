{
 "cells": [
  {
   "cell_type": "code",
   "execution_count": 1,
   "id": "5137e61f-284a-41df-9081-57d2b10691ef",
   "metadata": {},
   "outputs": [],
   "source": [
    "import numpy as np\n",
    "import pennylane as qml\n",
    "from pennylane import qchem as qchem\n",
    "from pennylane import numpy as np"
   ]
  },
  {
   "cell_type": "code",
   "execution_count": 2,
   "id": "71c64f25-45a2-4f45-bbfa-dd75fa986b62",
   "metadata": {},
   "outputs": [],
   "source": [
    "#load the molecule with nuclear coordinates\n",
    "symbols = ['H', 'H']\n",
    "coordinates = np.array([0.0, 0.0, -0.6614, 0.0, 0.0, 0.6614])"
   ]
  },
  {
   "cell_type": "code",
   "execution_count": 3,
   "id": "02f086e8-7372-4324-bfac-6593f3adb0fe",
   "metadata": {},
   "outputs": [
    {
     "name": "stderr",
     "output_type": "stream",
     "text": [
      "/opt/anaconda3/lib/python3.9/site-packages/pyscf/lib/misc.py:46: H5pyDeprecationWarning: Using default_file_mode other than 'r' is deprecated. Pass the mode to h5py.File() instead.\n",
      "  h5py.get_config().default_file_mode = 'a'\n"
     ]
    },
    {
     "name": "stdout",
     "output_type": "stream",
     "text": [
      "Number of qubits: 4\n",
      "Hamiltonian:   (-0.24274501727498227) [Z2]\n",
      "+ (-0.24274501727498227) [Z3]\n",
      "+ (-0.042072543031530185) [I0]\n",
      "+ (0.17771358191549919) [Z0]\n",
      "+ (0.1777135819154993) [Z1]\n",
      "+ (0.12293330460167415) [Z0 Z2]\n",
      "+ (0.12293330460167415) [Z1 Z3]\n",
      "+ (0.16768338881432718) [Z0 Z3]\n",
      "+ (0.16768338881432718) [Z1 Z2]\n",
      "+ (0.1705975924056083) [Z0 Z1]\n",
      "+ (0.17627661476093914) [Z2 Z3]\n",
      "+ (-0.04475008421265302) [Y0 Y1 X2 X3]\n",
      "+ (-0.04475008421265302) [X0 X1 Y2 Y3]\n",
      "+ (0.04475008421265302) [Y0 X1 X2 Y3]\n",
      "+ (0.04475008421265302) [X0 Y1 Y2 X3]\n"
     ]
    }
   ],
   "source": [
    "H, qubits = qml.qchem.molecular_hamiltonian(symbols, coordinates)\n",
    "print('Number of qubits:', qubits)\n",
    "print('Hamiltonian:', H)"
   ]
  },
  {
   "cell_type": "code",
   "execution_count": 4,
   "id": "c21d8f6e-f0c1-4215-a478-d8815b1a2a4d",
   "metadata": {},
   "outputs": [],
   "source": [
    "dev = qml.device(\"default.qubit\", wires=qubits)"
   ]
  },
  {
   "cell_type": "code",
   "execution_count": 5,
   "id": "67c91447-d702-4379-be84-0502a1a8c621",
   "metadata": {},
   "outputs": [
    {
     "name": "stdout",
     "output_type": "stream",
     "text": [
      "[1 1 0 0]\n"
     ]
    }
   ],
   "source": [
    "electrons = 2\n",
    "hf = qml.qchem.hf_state(electrons, qubits)\n",
    "print(hf)"
   ]
  },
  {
   "cell_type": "code",
   "execution_count": 6,
   "id": "5330342d-a22c-46a8-b5ea-e18fb28482ef",
   "metadata": {},
   "outputs": [],
   "source": [
    "def circuit(param, wires):\n",
    "    qml.BasisState(hf, wires=wires)\n",
    "    qml.DoubleExcitation(param, wires=[0, 1, 2, 3])"
   ]
  },
  {
   "cell_type": "code",
   "execution_count": 7,
   "id": "f5caab69-54fb-4107-a1e8-052b6a812012",
   "metadata": {},
   "outputs": [],
   "source": [
    "@qml.qnode(dev)\n",
    "def cost_fn(param):\n",
    "    circuit(param, wires=range(qubits))\n",
    "    return qml.expval(H)"
   ]
  },
  {
   "cell_type": "code",
   "execution_count": 8,
   "id": "04a2853f-51e3-4786-83e0-08068989ea27",
   "metadata": {},
   "outputs": [],
   "source": [
    "opt = qml.GradientDescentOptimizer(stepsize=0.4)"
   ]
  },
  {
   "cell_type": "code",
   "execution_count": 9,
   "id": "f58cdb85-bc96-40bd-9e72-6bdb6ee706da",
   "metadata": {},
   "outputs": [],
   "source": [
    "theta = np.array(0.0, requires_grad=True)"
   ]
  },
  {
   "cell_type": "code",
   "execution_count": 10,
   "id": "573f1ce5-e5ed-4233-b8d8-0876e5780103",
   "metadata": {},
   "outputs": [
    {
     "name": "stdout",
     "output_type": "stream",
     "text": [
      "Step = 0,  Energy = -1.12799983 Ha\n",
      "Step = 2,  Energy = -1.13466246 Ha\n",
      "Step = 4,  Energy = -1.13590595 Ha\n",
      "Step = 6,  Energy = -1.13613667 Ha\n",
      "Step = 8,  Energy = -1.13617944 Ha\n",
      "Step = 10,  Energy = -1.13618736 Ha\n",
      "Step = 12,  Energy = -1.13618883 Ha\n",
      "\n",
      "Final value of the ground-state energy = -1.13618883 Ha\n",
      "\n",
      "Optimal value of the circuit parameter = 0.2089\n"
     ]
    }
   ],
   "source": [
    "# store the values of the cost function\n",
    "energy = [cost_fn(theta)]\n",
    "\n",
    "# store the values of the circuit parameter\n",
    "angle = [theta]\n",
    "\n",
    "max_iterations = 100\n",
    "conv_tol = 1e-06\n",
    "\n",
    "for n in range(max_iterations):\n",
    "    theta, prev_energy = opt.step_and_cost(cost_fn, theta)\n",
    "\n",
    "    energy.append(cost_fn(theta))\n",
    "    angle.append(theta)\n",
    "\n",
    "    conv = np.abs(energy[-1] - prev_energy)\n",
    "\n",
    "    if n % 2 == 0:\n",
    "        print(f\"Step = {n},  Energy = {energy[-1]:.8f} Ha\")\n",
    "\n",
    "    if conv <= conv_tol:\n",
    "        break\n",
    "\n",
    "print(\"\\n\" f\"Final value of the ground-state energy = {energy[-1]:.8f} Ha\")\n",
    "print(\"\\n\" f\"Optimal value of the circuit parameter = {angle[-1]:.4f}\")"
   ]
  },
  {
   "cell_type": "code",
   "execution_count": 11,
   "id": "49419935-2a06-4c09-a627-31d6dc0efbbd",
   "metadata": {},
   "outputs": [
    {
     "data": {
      "image/png": "[encoded data removed]",
      "text/plain": [
       "<Figure size 864x360 with 2 Axes>"
      ]
     },
     "metadata": {
      "needs_background": "light"
     },
     "output_type": "display_data"
    }
   ],
   "source": [
    "import matplotlib.pyplot as plt\n",
    "\n",
    "fig = plt.figure()\n",
    "fig.set_figheight(5)\n",
    "fig.set_figwidth(12)\n",
    "\n",
    "# Full configuration interaction (FCI) energy computed classically\n",
    "E_fci = -1.136189454088\n",
    "\n",
    "# Add energy plot on column 1\n",
    "ax1 = fig.add_subplot(121)\n",
    "ax1.plot(range(n + 2), energy, \"go\", ls=\"dashed\")\n",
    "ax1.plot(range(n + 2), np.full(n + 2, E_fci), color=\"red\")\n",
    "ax1.set_xlabel(\"Optimization step\", fontsize=13)\n",
    "ax1.set_ylabel(\"Energy (Hartree)\", fontsize=13)\n",
    "ax1.text(0.5, -1.1176, r\"$E_\\mathrm{HF}$\", fontsize=15)\n",
    "ax1.text(0, -1.1357, r\"$E_\\mathrm{FCI}$\", fontsize=15)\n",
    "plt.xticks(fontsize=12)\n",
    "plt.yticks(fontsize=12)\n",
    "\n",
    "# Add angle plot on column 2\n",
    "ax2 = fig.add_subplot(122)\n",
    "ax2.plot(range(n + 2), angle, \"go\", ls=\"dashed\")\n",
    "ax2.set_xlabel(\"Optimization step\", fontsize=13)\n",
    "ax2.set_ylabel(\"Gate parameter $\\\\theta$ (rad)\", fontsize=13)\n",
    "plt.xticks(fontsize=12)\n",
    "plt.yticks(fontsize=12)\n",
    "\n",
    "plt.subplots_adjust(wspace=0.3, bottom=0.2)\n",
    "plt.show()"
   ]
  },
  {
   "cell_type": "code",
   "execution_count": null,
   "id": "23b0cec3-505c-46ff-b324-11cc3fecabbd",
   "metadata": {},
   "outputs": [],
   "source": []
  }
 ],
 "metadata": {
  "kernelspec": {
   "display_name": "Python 3 (ipykernel)",
   "language": "python",
   "name": "python3"
  },
  "language_info": {
   "codemirror_mode": {
    "name": "ipython",
    "version": 3
   },
   "file_extension": ".py",
   "mimetype": "text/x-python",
   "name": "python",
   "nbconvert_exporter": "python",
   "pygments_lexer": "ipython3",
   "version": "3.9.7"
  }
 },
 "nbformat": 4,
 "nbformat_minor": 5
}
